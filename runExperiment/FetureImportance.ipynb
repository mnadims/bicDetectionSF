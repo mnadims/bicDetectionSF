{
 "cells": [
  {
   "cell_type": "code",
   "execution_count": 4,
   "id": "0f5ed1e8",
   "metadata": {},
   "outputs": [],
   "source": [
    "file_path = \"H:/BIC-Review-1/Baselines/JITLine-replication-package-master/JITLine/ranked_feature_names/\"\n",
    "AutoSpearmanLog = open(file_path+\"AutoSpearmanLog.txt\").read().split('\\n')"
   ]
  },
  {
   "cell_type": "code",
   "execution_count": 10,
   "id": "7d490265",
   "metadata": {},
   "outputs": [],
   "source": [
    "exclude_text = \"\"\n",
    "for line in AutoSpearmanLog:\n",
    "    if(line[0:10] == '>> Exclude'):\n",
    "        exclude_text += line[11:]+'\\n'\n",
    "        \n",
    "with open(file_path+\"excludeAutoSpearmanLog.txt\", \"w\") as text_file:\n",
    "    text_file.write(exclude_text)"
   ]
  },
  {
   "cell_type": "code",
   "execution_count": null,
   "id": "1be29e39",
   "metadata": {},
   "outputs": [],
   "source": []
  },
  {
   "cell_type": "code",
   "execution_count": 1,
   "id": "3bf7250f",
   "metadata": {},
   "outputs": [
    {
     "name": "stdout",
     "output_type": "stream",
     "text": [
      "501\n"
     ]
    }
   ],
   "source": [
    "import statistics\n",
    " \n",
    "x = statistics.mean([1000, 2])\n",
    "print(x)"
   ]
  }
 ],
 "metadata": {
  "kernelspec": {
   "display_name": "Python 3",
   "language": "python",
   "name": "python3"
  },
  "language_info": {
   "codemirror_mode": {
    "name": "ipython",
    "version": 3
   },
   "file_extension": ".py",
   "mimetype": "text/x-python",
   "name": "python",
   "nbconvert_exporter": "python",
   "pygments_lexer": "ipython3",
   "version": "3.8.8"
  }
 },
 "nbformat": 4,
 "nbformat_minor": 5
}
