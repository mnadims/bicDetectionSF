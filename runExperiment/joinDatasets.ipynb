{
 "cells": [
  {
   "cell_type": "code",
   "execution_count": 13,
   "id": "76aee04a",
   "metadata": {},
   "outputs": [],
   "source": [
    "from collections import Counter\n",
    "import pandas as pd\n",
    "\n",
    "file_path = \"H:/BIC-Review-1/Baselines/JITLine-replication-package-master/JITLine/data/\""
   ]
  },
  {
   "cell_type": "code",
   "execution_count": 14,
   "id": "f71e3234",
   "metadata": {},
   "outputs": [
    {
     "name": "stdout",
     "output_type": "stream",
     "text": [
      "Index(['commit_id', 'author_date', 'bugcount', 'fixcount', 'la', 'ld', 'nf',\n",
      "       'nd', 'ns', 'ent', 'revd', 'nrev', 'rtime', 'tcmt', 'hcmt', 'self',\n",
      "       'ndev', 'age', 'nuc', 'app', 'aexp', 'rexp', 'oexp', 'arexp', 'rrexp',\n",
      "       'orexp', 'asexp', 'rsexp', 'osexp', 'asawr', 'rsawr', 'osawr'],\n",
      "      dtype='object')\n",
      "Index(['commit_id', 'decl-type-specifier', 'decl-type-name', 'decl-name',\n",
      "       'decl-init-expr-call-name', 'decl-init-expr-call-argument_list',\n",
      "       'if-condition-expr-name', 'if-condition-expr-operator',\n",
      "       'if-block-block_content', 'include-directive',\n",
      "       ...\n",
      "       'if_stmt-else-block-while-block-if-block-if_stmt-else-block-do-condition-expr-literal',\n",
      "       'if_stmt-else-block-while-block-if-block-if_stmt-else-block-expr-call-argument-expr-name-argument-expr-name',\n",
      "       'if_stmt-else-block-while-block-if-block-if_stmt-else-block-expr-call-name-argument-expr-name-name',\n",
      "       'if_stmt-else-block-while-block-if-block-if_stmt-else-block-expr-call-name-argument-expr-name-argument-expr-name',\n",
      "       'if-block-decl-init-expr-call-argument-expr-call-argument_list',\n",
      "       'if-condition-expr-name-argument-expr-literal',\n",
      "       'if-condition-expr-name-argument-expr-operator',\n",
      "       'if-condition-expr-name-argument-expr-name',\n",
      "       'if-condition-expr-macro-name',\n",
      "       'if-condition-expr-macro-argument_list-argument'],\n",
      "      dtype='object', length=4629)\n"
     ]
    }
   ],
   "source": [
    "df1 = pd.read_csv(file_path+ \"qt_metrics.csv\") \n",
    "df2 = pd.read_csv(file_path+ \"qtbase_tp_dataset.csv\") \n",
    "\n",
    "print(df1.columns)\n",
    "print(df2.columns)\n"
   ]
  },
  {
   "cell_type": "code",
   "execution_count": 15,
   "id": "9b7c874e",
   "metadata": {},
   "outputs": [
    {
     "name": "stdout",
     "output_type": "stream",
     "text": [
      "(32155, 32)\n",
      "(2443, 4629)\n"
     ]
    }
   ],
   "source": [
    "print(df1.shape)\n",
    "print(df2.shape)\n"
   ]
  },
  {
   "cell_type": "code",
   "execution_count": 16,
   "id": "1add092f",
   "metadata": {},
   "outputs": [
    {
     "name": "stdout",
     "output_type": "stream",
     "text": [
      "(2443, 4660)\n"
     ]
    }
   ],
   "source": [
    "#https://www.analyticsvidhya.com/blog/2020/02/joins-in-pandas-master-the-different-types-of-joins-in-python/\n",
    "dataset = pd.merge(df1,df2,on='commit_id')\n",
    "print(dataset.shape)"
   ]
  },
  {
   "cell_type": "code",
   "execution_count": 31,
   "id": "1797b022",
   "metadata": {},
   "outputs": [
    {
     "name": "stdout",
     "output_type": "stream",
     "text": [
      "(2443, 4657)\n"
     ]
    }
   ],
   "source": [
    "df = dataset.drop(columns=['commit_id', 'author_date', 'fixcount'])\n",
    "df = df.fillna(0)\n",
    "\n",
    "# Applying the condition to change value\n",
    "df.loc[df[\"bugcount\"] > 0, \"bugcount\"] = 1\n",
    "\n",
    "print(df.shape)"
   ]
  },
  {
   "cell_type": "code",
   "execution_count": 34,
   "id": "8b953ceb",
   "metadata": {},
   "outputs": [
    {
     "data": {
      "text/html": [
       "<div>\n",
       "<style scoped>\n",
       "    .dataframe tbody tr th:only-of-type {\n",
       "        vertical-align: middle;\n",
       "    }\n",
       "\n",
       "    .dataframe tbody tr th {\n",
       "        vertical-align: top;\n",
       "    }\n",
       "\n",
       "    .dataframe thead th {\n",
       "        text-align: right;\n",
       "    }\n",
       "</style>\n",
       "<table border=\"1\" class=\"dataframe\">\n",
       "  <thead>\n",
       "    <tr style=\"text-align: right;\">\n",
       "      <th></th>\n",
       "      <th>bugcount</th>\n",
       "      <th>la</th>\n",
       "      <th>ld</th>\n",
       "      <th>nf</th>\n",
       "      <th>nd</th>\n",
       "      <th>ns</th>\n",
       "      <th>ent</th>\n",
       "      <th>revd</th>\n",
       "      <th>nrev</th>\n",
       "      <th>rtime</th>\n",
       "      <th>...</th>\n",
       "      <th>if_stmt-else-block-while-block-if-block-if_stmt-else-block-do-condition-expr-literal</th>\n",
       "      <th>if_stmt-else-block-while-block-if-block-if_stmt-else-block-expr-call-argument-expr-name-argument-expr-name</th>\n",
       "      <th>if_stmt-else-block-while-block-if-block-if_stmt-else-block-expr-call-name-argument-expr-name-name</th>\n",
       "      <th>if_stmt-else-block-while-block-if-block-if_stmt-else-block-expr-call-name-argument-expr-name-argument-expr-name</th>\n",
       "      <th>if-block-decl-init-expr-call-argument-expr-call-argument_list</th>\n",
       "      <th>if-condition-expr-name-argument-expr-literal</th>\n",
       "      <th>if-condition-expr-name-argument-expr-operator</th>\n",
       "      <th>if-condition-expr-name-argument-expr-name</th>\n",
       "      <th>if-condition-expr-macro-name</th>\n",
       "      <th>if-condition-expr-macro-argument_list-argument</th>\n",
       "    </tr>\n",
       "  </thead>\n",
       "  <tbody>\n",
       "  </tbody>\n",
       "</table>\n",
       "<p>0 rows × 4657 columns</p>\n",
       "</div>"
      ],
      "text/plain": [
       "Empty DataFrame\n",
       "Columns: [bugcount, la, ld, nf, nd, ns, ent, revd, nrev, rtime, tcmt, hcmt, self, ndev, age, nuc, app, aexp, rexp, oexp, arexp, rrexp, orexp, asexp, rsexp, osexp, asawr, rsawr, osawr, decl-type-specifier, decl-type-name, decl-name, decl-init-expr-call-name, decl-init-expr-call-argument_list, if-condition-expr-name, if-condition-expr-operator, if-block-block_content, include-directive, include-file, decl-argument-expr-name, decl-init-expr-literal, decl-type-modifier, decl-init-expr-call-name-name, decl-init-expr-call-name-operator, if-condition-expr-call-name, if-condition-expr-call-argument-expr-call-name-name, if-condition-expr-call-argument-expr-call-name-operator, if-condition-expr-call-argument-expr-call-argument_list, if-condition-expr-call-argument-expr-literal, if-block-expr-call-name, if-block-expr-call-argument-expr-name, if-directive, if-expr-call-name, if-expr-call-argument-expr-name, if-expr-operator, ifndef-directive, ifndef-name, endif-directive, function_decl-type-specifier, function_decl-type-name, function_decl-name, function_decl-parameter-decl-type-specifier, function_decl-parameter-decl-type-name, function_decl-parameter-decl-type-modifier, function_decl-parameter-decl-name, function_decl-parameter-decl-type-name-name, function_decl-parameter-decl-type-name-operator, comment, decl-name-name, decl-name-operator, decl-argument-expr-specifier, decl-argument-expr-operator, decl-argument-expr-name-name, decl-argument-expr-name-operator, if-condition-expr-name-name, if-condition-expr-name-operator, if-block-decl-type-name, if-block-decl-type-modifier, if-block-decl-name, if-block-decl-init-expr-cast-argument-expr-name, if-block-decl-init-expr-cast-argument-expr-operator, if-block-decl-init-expr-cast-argument-expr-call-name-name, if-block-decl-init-expr-cast-argument-expr-call-name-operator, if-block-decl-init-expr-cast-argument-expr-call-argument_list, if-block-if-condition-expr-call-name-name, if-block-if-condition-expr-call-name-operator, if-block-if-condition-expr-call-argument-expr-name-name, if-block-if-condition-expr-call-argument-expr-name-operator, if-block-if-block-decl-type-name, if-block-if-block-decl-name, if-block-if-block-while-condition-expr-call-name, if-block-if-block-while-condition-expr-call-argument-expr-operator, if-block-if-block-while-condition-expr-call-argument-expr-name, if-block-if-block-while-condition-expr-call-argument-expr-call-name-name, if-block-if-block-while-condition-expr-call-argument-expr-call-name-operator, if-block-if-block-while-condition-expr-call-argument-expr-call-argument_list, if-block-if-block-while-block, if-block-if-block-expr-call-name-name, if-block-if-block-expr-call-name-operator, if-block-if-block-expr-call-argument-expr-name-name, ...]\n",
       "Index: []\n",
       "\n",
       "[0 rows x 4657 columns]"
      ]
     },
     "execution_count": 34,
     "metadata": {},
     "output_type": "execute_result"
    }
   ],
   "source": [
    "df[df['bugcount'] > 1]"
   ]
  }
 ],
 "metadata": {
  "kernelspec": {
   "display_name": "Python 3",
   "language": "python",
   "name": "python3"
  },
  "language_info": {
   "codemirror_mode": {
    "name": "ipython",
    "version": 3
   },
   "file_extension": ".py",
   "mimetype": "text/x-python",
   "name": "python",
   "nbconvert_exporter": "python",
   "pygments_lexer": "ipython3",
   "version": "3.8.8"
  }
 },
 "nbformat": 4,
 "nbformat_minor": 5
}
