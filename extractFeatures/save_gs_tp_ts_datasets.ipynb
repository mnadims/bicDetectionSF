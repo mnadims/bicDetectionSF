{
 "cells": [
  {
   "cell_type": "code",
   "execution_count": 6,
   "id": "d17d0bfb",
   "metadata": {},
   "outputs": [],
   "source": [
    "import pandas as pd"
   ]
  },
  {
   "cell_type": "code",
   "execution_count": 8,
   "id": "c5842c94",
   "metadata": {},
   "outputs": [],
   "source": [
    "ss = 'openstack'\n",
    "file_path = \"H:/BIC-Review-1/Baselines/JITLine-replication-package-master/JITLine/data/\"\n",
    "\n",
    "df1 = pd.read_csv(file_path+ ss+\"_metrics.csv\") \n",
    "df3 = pd.read_csv(file_path+ ss+\"_ts_dataset.csv\") \n",
    "\n",
    "ds2 = pd.merge(df1,df3,on='commit_id')\n",
    "\n",
    "ds2.author_date.astype(int)\n",
    "\n",
    "ds2 = ds2.sort_values(by=['author_date'], ascending=[True])\n",
    "\n",
    "ds2 = ds2.fillna(0)\n",
    "\n",
    "ds2.loc[ds2[\"bugcount\"] > 0, \"bugcount\"] = 1 # Applying the condition to change value \n",
    "\n",
    "#Don't run twice or more. Data are prepared manually by removing unwanted columns for each data types. \n",
    "ds2.to_csv(file_path+ss+'_gs_JITLine.csv', index=False, header=True)\n",
    "ds2.to_csv(file_path+ss+'_ts_JITLine.csv', index=False, header=True)"
   ]
  },
  {
   "cell_type": "code",
   "execution_count": 11,
   "id": "c2414220",
   "metadata": {},
   "outputs": [],
   "source": [
    "ss = 'qtbase'\n",
    "file_path = \"H:/BIC-Review-1/Baselines/JITLine-replication-package-master/JITLine/data/\"\n",
    "\n",
    "df1 = pd.read_csv(file_path+ \"qt_metrics.csv\") \n",
    "df2 = pd.read_csv(file_path+ \"qtbase_tp_dataset.csv\") \n",
    "df3 = pd.read_csv(file_path+ \"qtbase_ts_dataset.csv\") \n",
    "\n",
    "ds1 = pd.merge(df1,df2,on='commit_id')\n",
    "ds2 = pd.merge(df1,df3,on='commit_id')\n",
    "\n",
    "ds1.author_date.astype(int)\n",
    "ds2.author_date.astype(int)\n",
    "\n",
    "ds1 = ds1.sort_values(by=['author_date'], ascending=[True])\n",
    "ds2 = ds2.sort_values(by=['author_date'], ascending=[True])\n",
    "\n",
    "ds1 = ds1.fillna(0)\n",
    "ds2 = ds2.fillna(0)\n",
    "\n",
    "ds1.loc[ds1[\"bugcount\"] > 0, \"bugcount\"] = 1 # Applying the condition to change value \n",
    "ds2.loc[ds2[\"bugcount\"] > 0, \"bugcount\"] = 1 # Applying the condition to change value \n",
    "\n",
    "#Don't run twice or more. Data are prepared manually by removing unwanted columns for each data types. \n",
    "ds1.to_csv(file_path+'qt_gs_JITLine.csv', index=False, header=True)\n",
    "ds1.to_csv(file_path+'qt_tp_JITLine.csv', index=False, header=True)\n",
    "ds2.to_csv(file_path+'qt_ts_JITLine.csv', index=False, header=True)"
   ]
  }
 ],
 "metadata": {
  "kernelspec": {
   "display_name": "Python 3",
   "language": "python",
   "name": "python3"
  },
  "language_info": {
   "codemirror_mode": {
    "name": "ipython",
    "version": 3
   },
   "file_extension": ".py",
   "mimetype": "text/x-python",
   "name": "python",
   "nbconvert_exporter": "python",
   "pygments_lexer": "ipython3",
   "version": "3.8.8"
  }
 },
 "nbformat": 4,
 "nbformat_minor": 5
}
